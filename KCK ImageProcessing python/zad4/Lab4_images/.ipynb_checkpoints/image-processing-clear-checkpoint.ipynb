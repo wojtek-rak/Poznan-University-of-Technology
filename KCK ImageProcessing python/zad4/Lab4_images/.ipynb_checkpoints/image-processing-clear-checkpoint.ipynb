{
 "cells": [
  {
   "cell_type": "code",
   "execution_count": 4,
   "metadata": {},
   "outputs": [
    {
     "ename": "ModuleNotFoundError",
     "evalue": "No module named 'division'",
     "output_type": "error",
     "traceback": [
      "\u001b[0;31m---------------------------------------------------------------------------\u001b[0m",
      "\u001b[0;31mModuleNotFoundError\u001b[0m                       Traceback (most recent call last)",
      "\u001b[0;32m<ipython-input-4-bb2695032160>\u001b[0m in \u001b[0;36m<module>\u001b[0;34m\u001b[0m\n\u001b[1;32m      1\u001b[0m \u001b[0mget_ipython\u001b[0m\u001b[0;34m(\u001b[0m\u001b[0;34m)\u001b[0m\u001b[0;34m.\u001b[0m\u001b[0mrun_line_magic\u001b[0m\u001b[0;34m(\u001b[0m\u001b[0;34m'matplotlib'\u001b[0m\u001b[0;34m,\u001b[0m \u001b[0;34m'inline '\u001b[0m\u001b[0;34m)\u001b[0m\u001b[0;34m\u001b[0m\u001b[0m\n\u001b[0;32m----> 2\u001b[0;31m \u001b[0;32mimport\u001b[0m \u001b[0mdivision\u001b[0m\u001b[0;34m\u001b[0m\u001b[0m\n\u001b[0m\u001b[1;32m      3\u001b[0m \u001b[0;32mfrom\u001b[0m \u001b[0mpylab\u001b[0m \u001b[0;32mimport\u001b[0m \u001b[0;34m*\u001b[0m\u001b[0;34m\u001b[0m\u001b[0m\n\u001b[1;32m      4\u001b[0m \u001b[0;32mimport\u001b[0m \u001b[0mskimage\u001b[0m \u001b[0;32mas\u001b[0m \u001b[0mski\u001b[0m\u001b[0;34m\u001b[0m\u001b[0m\n\u001b[1;32m      5\u001b[0m \u001b[0;32mfrom\u001b[0m \u001b[0mskimage\u001b[0m \u001b[0;32mimport\u001b[0m \u001b[0mdata\u001b[0m\u001b[0;34m,\u001b[0m \u001b[0mio\u001b[0m\u001b[0;34m,\u001b[0m \u001b[0mfilters\u001b[0m\u001b[0;34m,\u001b[0m \u001b[0mexposure\u001b[0m\u001b[0;34m\u001b[0m\u001b[0m\n",
      "\u001b[0;31mModuleNotFoundError\u001b[0m: No module named 'division'"
     ]
    }
   ],
   "source": [
    "%matplotlib inline \n",
    "import division\n",
    "from pylab import *\n",
    "import skimage as ski\n",
    "from skimage import data, io, filters, exposure\n",
    "from skimage.filters import rank\n",
    "from skimage import img_as_float, img_as_ubyte\n",
    "from skimage.morphology import disk\n",
    "import skimage.morphology as mp\n",
    "from skimage import util\n",
    "from skimage.color import rgb2hsv, hsv2rgb, rgb2gray\n",
    "from skimage.filters.edges import convolve\n",
    "from matplotlib import pylab as plt\n",
    "import numpy as np\n",
    "from numpy import array\n",
    "from IPython.display import display\n",
    "from ipywidgets import interact, interactive, fixed\n",
    "from ipywidgets import *\n",
    "from ipykernel.pylab.backend_inline import flush_figures"
   ]
  },
  {
   "cell_type": "markdown",
   "metadata": {},
   "source": [
    "# Reprezentacja obrazów"
   ]
  },
  {
   "cell_type": "code",
   "execution_count": null,
   "metadata": {},
   "outputs": [],
   "source": [
    "coins = data.coins()\n",
    "io.imshow(coins)"
   ]
  },
  {
   "cell_type": "code",
   "execution_count": null,
   "metadata": {},
   "outputs": [],
   "source": [
    "coins"
   ]
  },
  {
   "cell_type": "code",
   "execution_count": null,
   "metadata": {},
   "outputs": [],
   "source": [
    "type(coins)"
   ]
  },
  {
   "cell_type": "code",
   "execution_count": null,
   "metadata": {},
   "outputs": [],
   "source": [
    "coins.shape"
   ]
  },
  {
   "cell_type": "code",
   "execution_count": null,
   "metadata": {},
   "outputs": [],
   "source": [
    "coins = data.coins()\n",
    "coins[20:30, 10:-10] = 255\n",
    "coins[::1, ::10] = 255\n",
    "io.imshow(coins)"
   ]
  },
  {
   "cell_type": "code",
   "execution_count": null,
   "metadata": {},
   "outputs": [],
   "source": [
    "chelsea = data.chelsea()\n",
    "io.imshow(chelsea)"
   ]
  },
  {
   "cell_type": "code",
   "execution_count": null,
   "metadata": {},
   "outputs": [],
   "source": [
    "chelsea.shape"
   ]
  },
  {
   "cell_type": "code",
   "execution_count": null,
   "metadata": {},
   "outputs": [],
   "source": [
    "chelsea[:4,:4,:]"
   ]
  },
  {
   "cell_type": "code",
   "execution_count": null,
   "metadata": {},
   "outputs": [],
   "source": [
    "chelsea = data.chelsea()\n",
    "tmp = rgb2hsv(chelsea)\n",
    "warnings.simplefilter(\"ignore\")\n",
    "tmp[:,:,1] = 0\n",
    "io.imshow(hsv2rgb(tmp))\n",
    "#tmp"
   ]
  },
  {
   "cell_type": "code",
   "execution_count": null,
   "metadata": {},
   "outputs": [],
   "source": [
    "chelsea = data.chelsea()\n",
    "def on_change(x=0):\n",
    "    tmp = rgb2hsv(chelsea)\n",
    "    tmp[:,:,0] = x\n",
    "    io.imshow(hsv2rgb(tmp))\n",
    "    flush_figures()\n",
    "    \n",
    "interact(on_change, x=(0.0,1.0, 0.01))"
   ]
  },
  {
   "cell_type": "code",
   "execution_count": null,
   "metadata": {},
   "outputs": [],
   "source": [
    "#chelsea = data.chelsea()\n",
    "#tmp = rgb2gray(chelsea)\n",
    "#ski.io.Image(hsv2rgb(tmp))"
   ]
  },
  {
   "cell_type": "code",
   "execution_count": null,
   "metadata": {},
   "outputs": [],
   "source": [
    "chelsea = data.chelsea()\n",
    "tmp = rgb2gray(chelsea)\n",
    "io.imshow(tmp)\n",
    "tmp.shape\n",
    "tmp"
   ]
  },
  {
   "cell_type": "code",
   "execution_count": null,
   "metadata": {},
   "outputs": [],
   "source": [
    "type(chelsea)"
   ]
  },
  {
   "cell_type": "markdown",
   "metadata": {},
   "source": [
    "## Inne operacje macierzowe"
   ]
  },
  {
   "cell_type": "code",
   "execution_count": null,
   "metadata": {},
   "outputs": [],
   "source": [
    "# Odbicie lustrzane\n",
    "chelsea = data.chelsea()\n",
    "io.imshow(chelsea[:,::-1])"
   ]
  },
  {
   "cell_type": "code",
   "execution_count": null,
   "metadata": {},
   "outputs": [],
   "source": [
    "# Swap axes 0 and 1 (do not change 2)\n",
    "chelsea = data.chelsea()\n",
    "io.imshow(chelsea.transpose(1,0,2))"
   ]
  },
  {
   "cell_type": "code",
   "execution_count": null,
   "metadata": {},
   "outputs": [],
   "source": [
    "# Wycięcie\n",
    "chelsea = data.chelsea()\n",
    "io.imshow(chelsea[200:300,200:300])"
   ]
  },
  {
   "cell_type": "code",
   "execution_count": null,
   "metadata": {},
   "outputs": [],
   "source": [
    "http://scikit-image.org/docs/dev/auto_examples/applications/plot_geometric.html"
   ]
  },
  {
   "cell_type": "markdown",
   "metadata": {},
   "source": [
    "# Proste przetwarzanie"
   ]
  },
  {
   "cell_type": "code",
   "execution_count": null,
   "metadata": {},
   "outputs": [],
   "source": [
    "coins = data.coins()\n",
    "io.imshow(coins)"
   ]
  },
  {
   "cell_type": "code",
   "execution_count": null,
   "metadata": {},
   "outputs": [],
   "source": [
    "# Proste statystyki\n",
    "np.mean(coins), np.std(coins)"
   ]
  },
  {
   "cell_type": "markdown",
   "metadata": {},
   "source": [
    "### Progowanie"
   ]
  },
  {
   "cell_type": "code",
   "execution_count": null,
   "metadata": {},
   "outputs": [],
   "source": [
    "# Histogram\n",
    "coins = data.coins()\n",
    "\n",
    "def plot_hist(img):\n",
    "    img = img_as_ubyte(img)\n",
    "    histo, x = np.histogram(img, range(0, 256), density=True)\n",
    "    plot(histo)\n",
    "    xlim(0, 255)\n",
    "    \n",
    "plot_hist(coins)"
   ]
  },
  {
   "cell_type": "markdown",
   "metadata": {},
   "source": [
    "## Operacje punktowe"
   ]
  },
  {
   "cell_type": "code",
   "execution_count": null,
   "metadata": {},
   "outputs": [],
   "source": [
    "# B[i,j] = g(A[i,j]) dla każdego i,j\n",
    "# Negacja\n",
    "io.imshow(255-coins)"
   ]
  },
  {
   "cell_type": "code",
   "execution_count": null,
   "metadata": {},
   "outputs": [],
   "source": [
    "# Co się dzieje z histogramami?\n",
    "figure(figsize=(15,5))\n",
    "subplot(1,2,1); plot_hist(coins)\n",
    "subplot(1,2,2); plot_hist(255-coins)"
   ]
  },
  {
   "cell_type": "code",
   "execution_count": null,
   "metadata": {},
   "outputs": [],
   "source": [
    "def thresh(t):\n",
    "    warnings.simplefilter(\"ignore\")\n",
    "    binary = (coins > t) * 255\n",
    "    binary = np.uint8(binary)\n",
    "    io.imshow(binary)\n",
    "    flush_figures()\n",
    "\n",
    "interact(thresh, t=(0,255,5))\n"
   ]
  },
  {
   "cell_type": "code",
   "execution_count": null,
   "metadata": {},
   "outputs": [],
   "source": [
    "\n",
    "img = data.moon()\n",
    "#imgplot = plt.imshow(data.moon())\n",
    "#imgplot.set_cmap('nipy_spectral')\n",
    "\n",
    "figure(figsize=(15,5))\n",
    "subplot(1,2,1); plt.imshow(data.moon(), cmap='gray')\n",
    "subplot(1,2,2); plot_hist(img)"
   ]
  },
  {
   "cell_type": "code",
   "execution_count": null,
   "metadata": {},
   "outputs": [],
   "source": [
    "img = img_as_float(data.moon())\n",
    "MIN = 100 / 256\n",
    "MAX = 125 / 256\n",
    "\n",
    "norm = (img - MIN) / (MAX - MIN)\n",
    "norm[norm > 1] = 1\n",
    "norm[norm < 0] = 0\n",
    "\n",
    "figure(figsize=(15,5))\n",
    "subplot(1,2,1); plt.imshow(norm, cmap='gray')\n",
    "subplot(1,2,2); plot_hist(norm)"
   ]
  },
  {
   "cell_type": "code",
   "execution_count": null,
   "metadata": {},
   "outputs": [],
   "source": [
    "img = img_as_float(data.moon())\n",
    "\n",
    "@interact(perc=(0,10,0.5))\n",
    "def on_change(perc=0):\n",
    "    MIN = np.percentile(img, perc)\n",
    "    MAX = np.percentile(img, 100-perc)\n",
    "    #Percentyl – kwantyl rzędu k/100, gdzie k=1, … , 99.\n",
    "    #Intuicyjnie mówiąc, percentyl jest wielkością, poniżej której padają wartości zadanego procentu próbek.\n",
    "\n",
    "    norm = (img - MIN) / (MAX - MIN)\n",
    "    norm[norm[:,:] > 1] = 1\n",
    "    norm[norm[:,:] < 0] = 0\n",
    "\n",
    "    figure(figsize=(15,5))\n",
    "    subplot(1,2,1); plt.imshow(norm, cmap='gray')\n",
    "    subplot(1,2,2); plot_hist(norm)\n",
    "    flush_figures()"
   ]
  },
  {
   "cell_type": "code",
   "execution_count": null,
   "metadata": {},
   "outputs": [],
   "source": [
    "# Operacje punktowe można wygodnie wyświetlić\n",
    "def identity(v):\n",
    "    return v\n",
    "\n",
    "def negate(v):\n",
    "    return 255-v\n",
    "\n",
    "def get_thresh(th):\n",
    "    def thresh(v):\n",
    "        return 255*(v>th)\n",
    "    return thresh\n",
    "\n",
    "def plot_point_op(fun):\n",
    "    xlim(-5, 260)\n",
    "    ylim(-5, 260)\n",
    "    plot([fun(v) for v in np.arange(0,256)])\n",
    "    \n",
    "figure(figsize=(15,4))\n",
    "subplot(2,2,1); plot_point_op(identity)\n",
    "subplot(2,2,2); plot_point_op(negate)\n",
    "subplot(2,2,3); plot_point_op(get_thresh(64))\n",
    "subplot(2,2,4); plot_point_op(get_thresh(128))"
   ]
  },
  {
   "cell_type": "code",
   "execution_count": null,
   "metadata": {},
   "outputs": [],
   "source": [
    "# Krzywa gamma\n",
    "img = img_as_float(data.coins())\n",
    "io.imshow(img)"
   ]
  },
  {
   "cell_type": "code",
   "execution_count": null,
   "metadata": {},
   "outputs": [],
   "source": [
    "img = img_as_float(data.coins())\n",
    "#io.imshow(img)\n",
    "def get_gamma_fun(g):\n",
    "    def gamma(v):\n",
    "        return 255*((v/255)**g)\n",
    "    return gamma\n",
    "\n",
    "@interact(gamma=(-1,10,0.1))\n",
    "def on_change(gamma=1):\n",
    "    tmp = img ** gamma\n",
    "    \n",
    "    figure(figsize=(15,5))\n",
    " \n",
    "    subplot(1,3,1); plt.imshow(tmp, cmap='gray')\n",
    "    subplot(1,3,2); plot_hist(tmp)\n",
    "    subplot(1,3,3); plot_point_op(get_gamma_fun(gamma))\n",
    "    flush_figures()\n",
    "    "
   ]
  },
  {
   "cell_type": "code",
   "execution_count": null,
   "metadata": {},
   "outputs": [],
   "source": [
    "figure()\n",
    "plot_point_op(get_gamma_fun(0.3))\n",
    "plot_point_op(get_gamma_fun(0.5))\n",
    "plot_point_op(get_gamma_fun(1.0))\n",
    "plot_point_op(get_gamma_fun(4))\n",
    "legend((0.3, 0.5, 1.0, 4), loc='best')\n",
    "\n",
    "figure(figsize=(15,15))\n",
    "subplot(2,2,1); title('gamma = 0.3'); plt.imshow(coins**0.3, cmap='gray')\n",
    "subplot(2,2,2); title('gamma = 0.5'); plt.imshow(coins**0.5, cmap='gray')\n",
    "subplot(2,2,3); title('gamma = 1.0'); plt.imshow(coins**1.0, cmap='gray')\n",
    "subplot(2,2,4); title('gamma = 4.0'); plt.imshow(coins**4.0, cmap='gray')"
   ]
  },
  {
   "cell_type": "markdown",
   "metadata": {},
   "source": [
    "## Konwolucja (splot)"
   ]
  },
  {
   "cell_type": "code",
   "execution_count": null,
   "metadata": {},
   "outputs": [],
   "source": [
    "#io.imshow(io.imread('convolution.png'), aspect='auto')\n",
    "\n",
    "dt = io.imread('convolution.png')\n",
    "fig = plt.figure(figsize = (20,13))\n",
    "ax = fig.add_subplot(111)\n",
    "ax.imshow(dt, interpolation='nearest')\n",
    "#ax.set_aspect(5)\n",
    "plt.show()\n"
   ]
  },
  {
   "cell_type": "markdown",
   "metadata": {},
   "source": [
    "## Filtry"
   ]
  },
  {
   "cell_type": "code",
   "execution_count": null,
   "metadata": {},
   "outputs": [],
   "source": [
    "img = data.page()\n",
    "img = img_as_float(img)\n",
    "io.imshow(img)"
   ]
  },
  {
   "cell_type": "code",
   "execution_count": null,
   "metadata": {},
   "outputs": [],
   "source": [
    "img"
   ]
  },
  {
   "cell_type": "code",
   "execution_count": null,
   "metadata": {},
   "outputs": [],
   "source": [
    "from skimage.filters.edges import convolve\n",
    "\n",
    "#K = array([[1,1,1],\n",
    "#           [1,1,1],\n",
    "#           [1,1,1]])\n",
    "SIZE=10\n",
    "\n",
    "K = ones([SIZE,SIZE])\n",
    "#print(K)\n",
    "K = K / sum(K) # Dlaczego przez 9?\n",
    "res = convolve(img, K)\n",
    "io.imshow(res)\n",
    "# Co będzie jeśli zastosujemy wielokrotnie?"
   ]
  },
  {
   "cell_type": "code",
   "execution_count": null,
   "metadata": {},
   "outputs": [],
   "source": [
    "from skimage.filters.edges import convolve\n",
    "\n",
    "K = ones([3,3])\n",
    "K = K / sum(K) \n",
    "\n",
    "def func(t = 1):\n",
    "    res = convolve(img, K)\n",
    "    for t in range(0, t):\n",
    "        res = convolve(res, K)\n",
    "    io.imshow(res)\n",
    "    flush_figures()\n",
    "    \n",
    "interact(func, t=(1,20,1))"
   ]
  },
  {
   "cell_type": "code",
   "execution_count": null,
   "metadata": {},
   "outputs": [],
   "source": [
    "cam = img_as_float(data.camera())\n",
    "io.imshow(cam)"
   ]
  },
  {
   "cell_type": "code",
   "execution_count": null,
   "metadata": {},
   "outputs": [],
   "source": [
    "K = array([[ 1, 2, 1],\n",
    "           [ 0, 0, 0],\n",
    "           [-1,-2,-1]])\n",
    "K = K / 4                       # Dlaczego przez 4?\n",
    "\n",
    "res = np.abs(convolve(cam, K))  # Dlaczego abs?\n",
    "io.imshow(res)"
   ]
  },
  {
   "cell_type": "code",
   "execution_count": null,
   "metadata": {},
   "outputs": [],
   "source": [
    "img = zeros([6,6])\n",
    "img[2,:] = 1\n",
    "img[:,2] = 1\n",
    "figure(figsize=(8,8))\n",
    "io.imshow(img)"
   ]
  },
  {
   "cell_type": "code",
   "execution_count": null,
   "metadata": {},
   "outputs": [],
   "source": [
    "K = array([[ 1, 2, 1],\n",
    "           [ 0, 0, 0],\n",
    "           [ -1,-2,-1]])\n",
    "K = K / 4\n",
    "res = convolve(img, K)\n",
    "figure(figsize=(8,8))\n",
    "io.imshow(res)"
   ]
  },
  {
   "cell_type": "code",
   "execution_count": null,
   "metadata": {},
   "outputs": [],
   "source": [
    "K = array([[ 1, 2, 1],\n",
    "           [ 0, 0, 0],\n",
    "           [-1,-2,-1]])\n",
    "K = K / 8\n",
    "res = convolve(cam, K)\n",
    "figure(figsize=(8,8))\n",
    "io.imshow(res)"
   ]
  },
  {
   "cell_type": "code",
   "execution_count": null,
   "metadata": {},
   "outputs": [],
   "source": [
    "img = zeros([6,6])\n",
    "img[2,:] = 1\n",
    "img[:,2] = 1\n",
    "figure(figsize=(8,8))\n",
    "io.imshow(img)"
   ]
  },
  {
   "cell_type": "code",
   "execution_count": null,
   "metadata": {},
   "outputs": [],
   "source": [
    "K = array([[ 1, 0,-1],\n",
    "           [ 2, 0,-2],\n",
    "           [ 1, 0,-1]])\n",
    "\n",
    "K = K / 4\n",
    "res = convolve(img, K)\n",
    "figure(figsize=(8,8))\n",
    "io.imshow(res)"
   ]
  },
  {
   "cell_type": "code",
   "execution_count": null,
   "metadata": {},
   "outputs": [],
   "source": [
    "img = img_as_float(data.camera())\n",
    "\n",
    "figure(figsize=(16,8))\n",
    "subplot(1,2,1); io.imshow(img)\n",
    "\n",
    "Kh = array([[ 1, 2, 1],\n",
    "            [ 0, 0, 0],\n",
    "            [-1,-2,-1]]) \n",
    "Kh = Kh / 4\n",
    "\n",
    "Kv = array([[ 1, 0,-1],\n",
    "            [ 2, 0,-2],\n",
    "            [ 1, 0,-1]])\n",
    "Kv = Kv / 4\n",
    "\n",
    "\n",
    "hor = np.abs(convolve(img, Kh))\n",
    "ver = np.abs(convolve(img, Kv))\n",
    "#res = np.sqrt(hor**2 + ver**2)\n",
    "\n",
    "#res = np.sqrt(hor*0.5 + ver*0.5)\n",
    "res = (hor+ver)/2\n",
    "\n",
    "subplot(1,2,2); io.imshow(res)"
   ]
  },
  {
   "cell_type": "code",
   "execution_count": null,
   "metadata": {},
   "outputs": [],
   "source": [
    "# Inne filtry wykrywające krawędzie: Roberts, Previtt\n",
    "#K = array([[ 1, 0],\n",
    "#           [ 0, -1]])\n",
    "K = array([[ 1, 1, 0],\n",
    "           [ 1, 0, -1],\n",
    "           [ 0, -1, -1]])\n",
    "K = K / 2                       \n",
    "res = np.abs(convolve(cam, K))\n",
    "io.imshow(res)"
   ]
  },
  {
   "cell_type": "markdown",
   "metadata": {},
   "source": [
    "## Używając skimage"
   ]
  },
  {
   "cell_type": "code",
   "execution_count": null,
   "metadata": {},
   "outputs": [],
   "source": [
    "warnings.simplefilter(\"ignore\")\n",
    "figure(figsize=(30,30))\n",
    "subplot(1,3,1); io.imshow(filters.sobel_v(cam))\n",
    "subplot(1,3,2); io.imshow(filters.sobel_h(cam))\n",
    "subplot(1,3,3); io.imshow(filters.sobel(cam))"
   ]
  },
  {
   "cell_type": "code",
   "execution_count": null,
   "metadata": {},
   "outputs": [],
   "source": [
    "figure(figsize=(20,20))\n",
    "subplot(1,2,1); io.imshow(data.coins())\n",
    "subplot(1,2,2); io.imshow(filters.sobel(data.coins()))"
   ]
  },
  {
   "cell_type": "markdown",
   "metadata": {},
   "source": [
    "## Odszumianie"
   ]
  },
  {
   "cell_type": "code",
   "execution_count": null,
   "metadata": {},
   "outputs": [],
   "source": [
    "img = rgb2gray(data.astronaut())\n",
    "io.imshow(img)"
   ]
  },
  {
   "cell_type": "code",
   "execution_count": null,
   "metadata": {
    "collapsed": true
   },
   "outputs": [],
   "source": [
    "def getHist(img, ax_hist, bins=256):\n",
    "   \n",
    "    out = ski.img_as_float(img)\n",
    "    # Display histogram\n",
    "    ax_hist.hist(out.ravel(), bins=bins, histtype='step', color='black')\n",
    "    ax_hist.ticklabel_format(axis='y', style='scientific', scilimits=(0, 0))\n",
    "    ax_hist.set_xlabel('Pixel intensity')\n",
    "    ax_hist.set_xlim(-0.1, 1.1)\n",
    "    ax_hist.set_yticks([])\n",
    "    return ax_hist\n",
    "\n",
    "def singlePlot(img):\n",
    "    fig, axes = plt.subplots(nrows=1, ncols=2, figsize=(10, 5))\n",
    "    axes[0].imshow(img[idx], cmap=plt.cm.gray)\n",
    "    getHist(img[idx], axes[1])\n",
    "    "
   ]
  },
  {
   "cell_type": "code",
   "execution_count": null,
   "metadata": {},
   "outputs": [],
   "source": [
    "img = rgb2gray(data.astronaut())\n",
    "\n",
    "fig, axes = plt.subplots(nrows=1, ncols=2, figsize=(10, 5))\n",
    "axes[0].imshow(img, cmap=plt.cm.gray)\n",
    "getHist(img, axes[1])\n",
    "#print(np.mean(img))"
   ]
  },
  {
   "cell_type": "code",
   "execution_count": null,
   "metadata": {},
   "outputs": [],
   "source": [
    "img = [rgb2gray(data.astronaut()), rgb2gray(data.coins())]\n",
    "idx = 0\n",
    "\n",
    "def func(noise_prop = 0.0):\n",
    "    fig, axes = plt.subplots(nrows=1, ncols=2, figsize=(10, 5))\n",
    "    imgProc = util.random_noise(img[idx], mode='s&p', amount=noise_prop)\n",
    "    axes[0].imshow(imgProc, cmap=plt.cm.gray)\n",
    "    getHist(imgProc, axes[1])\n",
    "    flush_figures()\n",
    "    \n",
    "interact(func, noise_prop=(0.0, 0.5 ,0.1))"
   ]
  },
  {
   "cell_type": "code",
   "execution_count": null,
   "metadata": {},
   "outputs": [],
   "source": [
    "img = [rgb2gray(data.astronaut()), rgb2gray(data.coins())]\n",
    "idx = 0\n",
    "\n",
    "def func(mean=0, var=0.01):\n",
    "    fig, axes = plt.subplots(nrows=1, ncols=2, figsize=(10, 5))\n",
    "    imgProc = util.random_noise(img[idx], mode='gaussian', mean=mean, var=var)\n",
    "    #io.imshow(imgProc)\n",
    "    axes[0].imshow(imgProc, cmap=plt.cm.gray)\n",
    "    getHist(imgProc, axes[1])\n",
    "    flush_figures()\n",
    "interact(func, mean=(-0.8, 0.8,0.1), var=(0.0,0.3,0.1))"
   ]
  },
  {
   "cell_type": "code",
   "execution_count": null,
   "metadata": {},
   "outputs": [],
   "source": [
    "io.imshow(io.imread('http://tracer.lcc.uma.es/problems/mfp/MedianFilter.jpg'))"
   ]
  },
  {
   "cell_type": "code",
   "execution_count": null,
   "metadata": {},
   "outputs": [],
   "source": [
    "img = [rgb2gray(data.astronaut()), rgb2gray(data.coins())]\n",
    "idx = 0\n",
    "\n",
    "def func(r = 0, noise_prop = 0.0):\n",
    "    warnings.simplefilter(\"ignore\")\n",
    "    fig, axes = plt.subplots(nrows=1, ncols=2, figsize=(10, 5))\n",
    "    imgProc = util.random_noise(img[idx], mode='s&p', amount=noise_prop)    \n",
    "    out = filters.median(imgProc, disk(r))\n",
    "    #out = imgProc\n",
    "    axes[0].imshow(out, cmap=plt.cm.gray)\n",
    "    getHist(out, axes[1])\n",
    "    flush_figures()\n",
    "\n",
    "interact(func, r=(0,20,1), noise_prop=(0.0,1.0,0.1))\n",
    "\n"
   ]
  },
  {
   "cell_type": "code",
   "execution_count": null,
   "metadata": {},
   "outputs": [],
   "source": [
    "img = [rgb2gray(data.astronaut()), rgb2gray(data.coins())]\n",
    "idx = 0\n",
    "\n",
    "def func(r = 0,  mean = 0, var=0.0):\n",
    "    warnings.simplefilter(\"ignore\")\n",
    "    fig, axes = plt.subplots(nrows=1, ncols=2, figsize=(10, 5))\n",
    "    imgProc = util.random_noise(img[idx], mode='gaussian',  mean=mean, var=var)\n",
    "    out = filters.median(imgProc, disk(r))\n",
    "    axes[0].imshow(out, cmap=plt.cm.gray)\n",
    "    getHist(out, axes[1])\n",
    "    flush_figures()\n",
    "\n",
    "interact(func, r=(0,20,1), mean=(-0.8, 0.8,0.1), var=(0.0,0.3,0.1))"
   ]
  },
  {
   "cell_type": "code",
   "execution_count": null,
   "metadata": {},
   "outputs": [],
   "source": [
    "figure(figsize=(20,20))\n",
    "subplot(1,2,1)\n",
    "io.imshow(io.imread('http://www.mathworks.com/help/releases/R2013b/images/gaussian.png'))\n",
    "subplot(1,2,2)\n",
    "io.imshow(io.imread('http://4.bp.blogspot.com/_qEs9r36R5kw/S63QM-0V6kI/AAAAAAAAArY/9AQI1izF9Wk/s320/Picture+2.png'))"
   ]
  },
  {
   "cell_type": "code",
   "execution_count": null,
   "metadata": {},
   "outputs": [],
   "source": [
    "img = [rgb2gray(data.astronaut()), rgb2gray(data.coins())]\n",
    "idx = 0\n",
    "\n",
    "def func(r = 0, noise_prop = 0.0):\n",
    "    warnings.simplefilter(\"ignore\")\n",
    "    fig, axes = plt.subplots(nrows=1, ncols=2, figsize=(10, 5))\n",
    "    imgProc = util.random_noise(img[idx], mode='s&p', amount=noise_prop)    \n",
    "    out = filters.gaussian_filter(imgProc, sigma=r)\n",
    "    axes[0].imshow(out, cmap=plt.cm.gray)\n",
    "    getHist(out, axes[1])\n",
    "    flush_figures()\n",
    "\n",
    "interact(func, r=(0,20,1), noise_prop=(0.0,0.5,0.1))"
   ]
  },
  {
   "cell_type": "code",
   "execution_count": null,
   "metadata": {},
   "outputs": [],
   "source": [
    "img = [rgb2gray(data.astronaut()), rgb2gray(data.coins())]\n",
    "idx = 0\n",
    "\n",
    "def func(r = 0, mean = 0, var=0.00):\n",
    "    \n",
    "    imgProc = util.random_noise(img[idx], mode='gaussian', mean=mean, var=var)\n",
    "    io.imshow(imgProc)\n",
    "    \n",
    "    warnings.simplefilter(\"ignore\")\n",
    "    out = filters.gaussian_filter(imgProc, sigma=r)\n",
    "    io.imshow(out)\n",
    "    flush_figures()\n",
    "    \n",
    "interact(func, r=(0,20,1), mean=(-0.8, 0.8,0.1), var=(0.0,0.3,0.1))\n",
    "\n"
   ]
  },
  {
   "cell_type": "markdown",
   "metadata": {},
   "source": [
    "## Filtr Canny"
   ]
  },
  {
   "cell_type": "code",
   "execution_count": null,
   "metadata": {},
   "outputs": [],
   "source": [
    "warnings.simplefilter(\"ignore\")\n",
    "img = rgb2gray(data.imread('noisy.png'))\n",
    "#img = im\n",
    "figure(figsize=(20,20))\n",
    "subplot(1,3,1)\n",
    "io.imshow(img)\n",
    "subplot(1,3,2)\n",
    "io.imshow(filters.sobel(img))\n",
    "subplot(1,3,3)\n",
    "\n",
    "from skimage import feature\n",
    "io.imshow(ski.feature.canny(img, sigma=3))"
   ]
  },
  {
   "cell_type": "code",
   "execution_count": null,
   "metadata": {},
   "outputs": [],
   "source": [
    "img = [rgb2gray(data.astronaut()), rgb2gray(data.coins())]\n",
    "idx = 0\n",
    "\n",
    "#imgProc = filters.sobel(img[idx])\n",
    "imgProc = ski.feature.canny(img[idx], sigma=3)\n",
    "io.imshow(imgProc)"
   ]
  },
  {
   "cell_type": "code",
   "execution_count": null,
   "metadata": {},
   "outputs": [],
   "source": [
    "img = [rgb2gray(data.astronaut()), rgb2gray(data.coins())]\n",
    "idx = 0 ####\n",
    "\n",
    "def func(s = 1):\n",
    "    imgProc = ski.feature.canny(img[idx], sigma=s)\n",
    "    io.imshow(imgProc)\n",
    "    flush_figures()\n",
    "    \n",
    "interact(func, s=(1,10,1))"
   ]
  },
  {
   "cell_type": "markdown",
   "metadata": {},
   "source": [
    "# Operacje Morfologiczne"
   ]
  },
  {
   "cell_type": "markdown",
   "metadata": {},
   "source": [
    "## Dylatacja"
   ]
  },
  {
   "cell_type": "code",
   "execution_count": null,
   "metadata": {},
   "outputs": [],
   "source": [
    "dt = io.imread('https://upload.wikimedia.org/wikipedia/commons/2/2c/Dylatacja_przyklad.png')\n",
    "fig = plt.figure(figsize = (20,13))\n",
    "ax = fig.add_subplot(111)\n",
    "ax.imshow(dt, interpolation='nearest')\n",
    "#ax.set_aspect(5)\n",
    "plt.show()"
   ]
  },
  {
   "cell_type": "code",
   "execution_count": null,
   "metadata": {},
   "outputs": [],
   "source": [
    "img = zeros([10,10])\n",
    "img[2:5,2:4] = 1\n",
    "img[6:8,5:9] = 1\n",
    "img[3:8,5:6] = 1\n",
    "img[3:4,2:5] = 1\n",
    "figure(figsize=(8,8))\n",
    "io.imshow(img)"
   ]
  },
  {
   "cell_type": "code",
   "execution_count": null,
   "metadata": {},
   "outputs": [],
   "source": [
    "img = mp.dilation(img)\n",
    "io.imshow(img)"
   ]
  },
  {
   "cell_type": "markdown",
   "metadata": {},
   "source": [
    "# Erozja"
   ]
  },
  {
   "cell_type": "code",
   "execution_count": null,
   "metadata": {},
   "outputs": [],
   "source": [
    "dt = io.imread('https://upload.wikimedia.org/wikipedia/commons/f/f0/Erozja_przyklad.png')\n",
    "fig = plt.figure(figsize = (20,13))\n",
    "ax = fig.add_subplot(111)\n",
    "ax.imshow(dt, interpolation='nearest')\n",
    "#ax.set_aspect(5)\n",
    "plt.show()"
   ]
  },
  {
   "cell_type": "code",
   "execution_count": null,
   "metadata": {},
   "outputs": [],
   "source": [
    "img = zeros([10,10])\n",
    "img[2:5,2:4] = 1\n",
    "img[6:8,5:9] = 1\n",
    "img[3:8,5:6] = 1\n",
    "img[3:4,2:5] = 1\n",
    "figure(figsize=(8,8))\n",
    "io.imshow(img)"
   ]
  },
  {
   "cell_type": "code",
   "execution_count": null,
   "metadata": {},
   "outputs": [],
   "source": [
    "K = array([[ 0, 1, 0],\n",
    "            [ 1, 1, 1],\n",
    "            [ 0, 1, 0]])\n",
    "\n",
    "img = mp.erosion(img, selem=K)\n",
    "io.imshow(img, cmap='gray')"
   ]
  },
  {
   "cell_type": "markdown",
   "metadata": {},
   "source": [
    "# Otwarcie"
   ]
  },
  {
   "cell_type": "code",
   "execution_count": null,
   "metadata": {},
   "outputs": [],
   "source": [
    "img = zeros([30,30])\n",
    "img[10:20,10:20] = 1\n",
    "\n",
    "img[10:11,5:10] = 1\n",
    "img[5:10,14:15] = 1\n",
    "img[14:15,20:23] = 1\n",
    "img[20:26,14:15] = 1\n",
    "img[25:26,10:15] = 1\n",
    "figure(figsize=(8,8))\n",
    "io.imshow(img)"
   ]
  },
  {
   "cell_type": "code",
   "execution_count": null,
   "metadata": {},
   "outputs": [],
   "source": [
    "img = mp.dilation(mp.erosion(img))\n",
    "io.imshow(img)\n"
   ]
  },
  {
   "cell_type": "markdown",
   "metadata": {},
   "source": [
    "# Zamkniecie"
   ]
  },
  {
   "cell_type": "code",
   "execution_count": null,
   "metadata": {},
   "outputs": [],
   "source": [
    "img = zeros([30,30])\n",
    "img[10:20,10:20] = 1\n",
    "\n",
    "img[10:13,15:16] = 0\n",
    "img[17:20,14:15] = 0\n",
    "img[14:15,10:13] = 0\n",
    "img[15:16,18:20] = 0\n",
    "\n",
    "figure(figsize=(8,8))\n",
    "io.imshow(img)"
   ]
  },
  {
   "cell_type": "code",
   "execution_count": null,
   "metadata": {},
   "outputs": [],
   "source": [
    "img = mp.erosion(mp.dilation(img))\n",
    "io.imshow(img)"
   ]
  },
  {
   "cell_type": "code",
   "execution_count": null,
   "metadata": {},
   "outputs": [],
   "source": [
    "#OTWARCIE/ZAMKNIECIE - TEN SAM EFEKT PO KILKU OPERACJACH (IDEMPOTENCJA)\n",
    "img = mp.erosion(mp.dilation(img))\n",
    "img = mp.erosion(mp.dilation(img))\n",
    "img = mp.erosion(mp.dilation(img))\n",
    "io.imshow(img)"
   ]
  },
  {
   "cell_type": "code",
   "execution_count": null,
   "metadata": {
    "collapsed": true
   },
   "outputs": [],
   "source": []
  }
 ],
 "metadata": {
  "kernelspec": {
   "display_name": "Python 3",
   "language": "python",
   "name": "python3"
  }
 },
 "nbformat": 4,
 "nbformat_minor": 1
}
