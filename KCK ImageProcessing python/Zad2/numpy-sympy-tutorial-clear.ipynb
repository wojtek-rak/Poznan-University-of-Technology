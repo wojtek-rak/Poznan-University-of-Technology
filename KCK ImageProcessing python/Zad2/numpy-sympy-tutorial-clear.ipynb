{
 "cells": [
  {
   "cell_type": "markdown",
   "metadata": {},
   "source": [
    "# Numpy"
   ]
  },
  {
   "cell_type": "code",
   "execution_count": 28,
   "metadata": {},
   "outputs": [
    {
     "data": {
      "text/plain": [
       "array(['1', '2', '3', '4', '5', '6', 'fsdgdfg'], dtype='<U21')"
      ]
     },
     "execution_count": 28,
     "metadata": {},
     "output_type": "execute_result"
    }
   ],
   "source": [
    "import numpy as np\n",
    "\n",
    "x = [1, 2, 3, 4, 5, 6, 'fsdgdfg' ]\n",
    "v = np.array(x)\n",
    "v"
   ]
  },
  {
   "cell_type": "code",
   "execution_count": 30,
   "metadata": {},
   "outputs": [
    {
     "data": {
      "text/plain": [
       "array([[1, 2],\n",
       "       [3, 4]])"
      ]
     },
     "execution_count": 30,
     "metadata": {},
     "output_type": "execute_result"
    }
   ],
   "source": [
    "M = np.array([[1,2], [3,4]])\n",
    "M"
   ]
  },
  {
   "cell_type": "code",
   "execution_count": 31,
   "metadata": {},
   "outputs": [
    {
     "data": {
      "text/plain": [
       "(numpy.ndarray, numpy.ndarray)"
      ]
     },
     "execution_count": 31,
     "metadata": {},
     "output_type": "execute_result"
    }
   ],
   "source": [
    "type(v), type(M)"
   ]
  },
  {
   "cell_type": "code",
   "execution_count": 32,
   "metadata": {},
   "outputs": [
    {
     "data": {
      "image/png": "[encoded data removed]",
      "text/latex": [
       "$\\displaystyle \\left( 7\\right)$"
      ],
      "text/plain": [
       "(7,)"
      ]
     },
     "execution_count": 32,
     "metadata": {},
     "output_type": "execute_result"
    }
   ],
   "source": [
    "v.shape"
   ]
  },
  {
   "cell_type": "code",
   "execution_count": 33,
   "metadata": {},
   "outputs": [
    {
     "data": {
      "image/png": "[encoded data removed]",
      "text/latex": [
       "$\\displaystyle \\left( 2, \\  2\\right)$"
      ],
      "text/plain": [
       "(2, 2)"
      ]
     },
     "execution_count": 33,
     "metadata": {},
     "output_type": "execute_result"
    }
   ],
   "source": [
    "M.shape"
   ]
  },
  {
   "cell_type": "code",
   "execution_count": 34,
   "metadata": {},
   "outputs": [
    {
     "data": {
      "image/png": "[encoded data removed]",
      "text/latex": [
       "$\\displaystyle 4$"
      ],
      "text/plain": [
       "4"
      ]
     },
     "execution_count": 34,
     "metadata": {},
     "output_type": "execute_result"
    }
   ],
   "source": [
    "M.size"
   ]
  },
  {
   "cell_type": "code",
   "execution_count": 35,
   "metadata": {},
   "outputs": [
    {
     "data": {
      "text/plain": [
       "dtype('int64')"
      ]
     },
     "execution_count": 35,
     "metadata": {},
     "output_type": "execute_result"
    }
   ],
   "source": [
    "M.dtype"
   ]
  },
  {
   "cell_type": "code",
   "execution_count": 36,
   "metadata": {},
   "outputs": [
    {
     "data": {
      "text/plain": [
       "array([[0.15849106, 0.42247758, 0.38908172],\n",
       "       [0.35572256, 0.87480966, 0.61643465],\n",
       "       [0.9992435 , 0.48405215, 0.37305086],\n",
       "       [0.51814908, 0.37834583, 0.9342245 ],\n",
       "       [0.81126063, 0.46060742, 0.47847368]])"
      ]
     },
     "execution_count": 36,
     "metadata": {},
     "output_type": "execute_result"
    }
   ],
   "source": [
    "np.random.rand(5,3)"
   ]
  },
  {
   "cell_type": "code",
   "execution_count": 37,
   "metadata": {},
   "outputs": [
    {
     "data": {
      "text/plain": [
       "array([[0., 0., 0.],\n",
       "       [0., 0., 0.],\n",
       "       [0., 0., 0.],\n",
       "       [0., 0., 0.],\n",
       "       [0., 0., 0.]])"
      ]
     },
     "execution_count": 37,
     "metadata": {},
     "output_type": "execute_result"
    }
   ],
   "source": [
    "np.zeros([5,3])"
   ]
  },
  {
   "cell_type": "code",
   "execution_count": 38,
   "metadata": {},
   "outputs": [
    {
     "name": "stdout",
     "output_type": "stream",
     "text": [
      "[[1 1 1]\n",
      " [2 2 2]]\n",
      "[[1 2 3]\n",
      " [4 5 6]]\n"
     ]
    }
   ],
   "source": [
    "M = np.array([[1,2,3], [4,5,6]])\n",
    "N = np.array([[1,1,1], [2,2,2]])\n",
    "print(N)\n",
    "print(M)"
   ]
  },
  {
   "cell_type": "code",
   "execution_count": 39,
   "metadata": {},
   "outputs": [
    {
     "data": {
      "text/plain": [
       "array([[2, 3, 4],\n",
       "       [6, 7, 8]])"
      ]
     },
     "execution_count": 39,
     "metadata": {},
     "output_type": "execute_result"
    }
   ],
   "source": [
    "M + N"
   ]
  },
  {
   "cell_type": "code",
   "execution_count": 40,
   "metadata": {},
   "outputs": [
    {
     "data": {
      "text/plain": [
       "array([[ 5, 10, 15],\n",
       "       [20, 25, 30]])"
      ]
     },
     "execution_count": 40,
     "metadata": {},
     "output_type": "execute_result"
    }
   ],
   "source": [
    "5*M"
   ]
  },
  {
   "cell_type": "code",
   "execution_count": 41,
   "metadata": {},
   "outputs": [
    {
     "data": {
      "text/plain": [
       "array([[ 1,  2,  3],\n",
       "       [ 8, 10, 12]])"
      ]
     },
     "execution_count": 41,
     "metadata": {},
     "output_type": "execute_result"
    }
   ],
   "source": [
    "# Mnozenie kolejnych komorek macierzy\n",
    "M*N"
   ]
  },
  {
   "cell_type": "code",
   "execution_count": 45,
   "metadata": {},
   "outputs": [
    {
     "ename": "ValueError",
     "evalue": "shapes (2,3) and (2,3) not aligned: 3 (dim 1) != 2 (dim 0)",
     "output_type": "error",
     "traceback": [
      "\u001b[0;31m---------------------------------------------------------------------------\u001b[0m",
      "\u001b[0;31mValueError\u001b[0m                                Traceback (most recent call last)",
      "\u001b[0;32m<ipython-input-45-73676ebce8ab>\u001b[0m in \u001b[0;36m<module>\u001b[0;34m\u001b[0m\n\u001b[1;32m      1\u001b[0m \u001b[0;31m# Mnożenie macierzy\u001b[0m\u001b[0;34m\u001b[0m\u001b[0;34m\u001b[0m\u001b[0m\n\u001b[0;32m----> 2\u001b[0;31m \u001b[0mM\u001b[0m\u001b[0;34m.\u001b[0m\u001b[0mdot\u001b[0m\u001b[0;34m(\u001b[0m\u001b[0mN\u001b[0m\u001b[0;34m)\u001b[0m\u001b[0;34m\u001b[0m\u001b[0m\n\u001b[0m",
      "\u001b[0;31mValueError\u001b[0m: shapes (2,3) and (2,3) not aligned: 3 (dim 1) != 2 (dim 0)"
     ]
    }
   ],
   "source": [
    "# Mnożenie macierzy\n",
    "M.dot(N)"
   ]
  },
  {
   "cell_type": "code",
   "execution_count": 43,
   "metadata": {},
   "outputs": [
    {
     "data": {
      "text/plain": [
       "array([[ 6, 12],\n",
       "       [15, 30]])"
      ]
     },
     "execution_count": 43,
     "metadata": {},
     "output_type": "execute_result"
    }
   ],
   "source": [
    "# Transpozycja\n",
    "M.dot(N.T)"
   ]
  },
  {
   "cell_type": "code",
   "execution_count": 44,
   "metadata": {},
   "outputs": [
    {
     "data": {
      "text/plain": [
       "array([ 0. ,  0.1,  0.2,  0.3,  0.4,  0.5,  0.6,  0.7,  0.8,  0.9,  1. ,\n",
       "        1.1,  1.2,  1.3,  1.4,  1.5,  1.6,  1.7,  1.8,  1.9,  2. ,  2.1,\n",
       "        2.2,  2.3,  2.4,  2.5,  2.6,  2.7,  2.8,  2.9,  3. ,  3.1,  3.2,\n",
       "        3.3,  3.4,  3.5,  3.6,  3.7,  3.8,  3.9,  4. ,  4.1,  4.2,  4.3,\n",
       "        4.4,  4.5,  4.6,  4.7,  4.8,  4.9,  5. ,  5.1,  5.2,  5.3,  5.4,\n",
       "        5.5,  5.6,  5.7,  5.8,  5.9,  6. ,  6.1,  6.2,  6.3,  6.4,  6.5,\n",
       "        6.6,  6.7,  6.8,  6.9,  7. ,  7.1,  7.2,  7.3,  7.4,  7.5,  7.6,\n",
       "        7.7,  7.8,  7.9,  8. ,  8.1,  8.2,  8.3,  8.4,  8.5,  8.6,  8.7,\n",
       "        8.8,  8.9,  9. ,  9.1,  9.2,  9.3,  9.4,  9.5,  9.6,  9.7,  9.8,\n",
       "        9.9, 10. ])"
      ]
     },
     "execution_count": 44,
     "metadata": {},
     "output_type": "execute_result"
    }
   ],
   "source": [
    "# Generowanie rownych odstepow\n",
    "v=np.linspace(0,10,101)\n",
    "v"
   ]
  },
  {
   "cell_type": "code",
   "execution_count": 46,
   "metadata": {},
   "outputs": [
    {
     "data": {
      "text/plain": [
       "array([ 0.        ,  0.09983342,  0.19866933,  0.29552021,  0.38941834,\n",
       "        0.47942554,  0.56464247,  0.64421769,  0.71735609,  0.78332691,\n",
       "        0.84147098,  0.89120736,  0.93203909,  0.96355819,  0.98544973,\n",
       "        0.99749499,  0.9995736 ,  0.99166481,  0.97384763,  0.94630009,\n",
       "        0.90929743,  0.86320937,  0.8084964 ,  0.74570521,  0.67546318,\n",
       "        0.59847214,  0.51550137,  0.42737988,  0.33498815,  0.23924933,\n",
       "        0.14112001,  0.04158066, -0.05837414, -0.15774569, -0.2555411 ,\n",
       "       -0.35078323, -0.44252044, -0.52983614, -0.61185789, -0.68776616,\n",
       "       -0.7568025 , -0.81827711, -0.87157577, -0.91616594, -0.95160207,\n",
       "       -0.97753012, -0.993691  , -0.99992326, -0.99616461, -0.98245261,\n",
       "       -0.95892427, -0.92581468, -0.88345466, -0.83226744, -0.77276449,\n",
       "       -0.70554033, -0.63126664, -0.55068554, -0.46460218, -0.37387666,\n",
       "       -0.2794155 , -0.1821625 , -0.0830894 ,  0.0168139 ,  0.1165492 ,\n",
       "        0.21511999,  0.31154136,  0.40484992,  0.49411335,  0.57843976,\n",
       "        0.6569866 ,  0.72896904,  0.79366786,  0.85043662,  0.8987081 ,\n",
       "        0.93799998,  0.96791967,  0.98816823,  0.99854335,  0.99894134,\n",
       "        0.98935825,  0.96988981,  0.94073056,  0.90217183,  0.85459891,\n",
       "        0.79848711,  0.7343971 ,  0.66296923,  0.58491719,  0.50102086,\n",
       "        0.41211849,  0.31909836,  0.22288991,  0.12445442,  0.02477543,\n",
       "       -0.07515112, -0.17432678, -0.27176063, -0.36647913, -0.45753589,\n",
       "       -0.54402111])"
      ]
     },
     "execution_count": 46,
     "metadata": {},
     "output_type": "execute_result"
    }
   ],
   "source": [
    "np.sin(v)"
   ]
  },
  {
   "cell_type": "code",
   "execution_count": 70,
   "metadata": {},
   "outputs": [
    {
     "data": {
      "image/png": "[encoded data removed]",
      "text/plain": [
       "<Figure size 432x288 with 1 Axes>"
      ]
     },
     "metadata": {
      "needs_background": "light"
     },
     "output_type": "display_data"
    }
   ],
   "source": [
    "%matplotlib inline\n",
    "from matplotlib import pyplot as plt\n",
    "plt.plot(v, np.sin(v))\n",
    "plt.show()"
   ]
  },
  {
   "cell_type": "code",
   "execution_count": 65,
   "metadata": {},
   "outputs": [
    {
     "data": {
      "text/plain": [
       "array([[ 1,  2,  3,  4],\n",
       "       [ 5,  6,  7,  8],\n",
       "       [ 9, 10, 11, 12],\n",
       "       [13, 14, 15, 16]])"
      ]
     },
     "execution_count": 65,
     "metadata": {},
     "output_type": "execute_result"
    }
   ],
   "source": [
    "M = np.array([[1,2,3,4], [5,6,7,8], [9,10,11,12], [13,14,15,16]])\n",
    "M"
   ]
  },
  {
   "cell_type": "code",
   "execution_count": 66,
   "metadata": {},
   "outputs": [
    {
     "data": {
      "text/plain": [
       "array([ 3,  7, 11, 15])"
      ]
     },
     "execution_count": 66,
     "metadata": {},
     "output_type": "execute_result"
    }
   ],
   "source": [
    "# Krojenie macierzy \n",
    "M[:,2]"
   ]
  },
  {
   "cell_type": "code",
   "execution_count": 67,
   "metadata": {},
   "outputs": [
    {
     "data": {
      "text/plain": [
       "array([10, 11])"
      ]
     },
     "execution_count": 67,
     "metadata": {},
     "output_type": "execute_result"
    }
   ],
   "source": [
    "M[2,1:3]"
   ]
  },
  {
   "cell_type": "code",
   "execution_count": 68,
   "metadata": {},
   "outputs": [
    {
     "data": {
      "text/plain": [
       "array([[ 7,  8],\n",
       "       [11, 12]])"
      ]
     },
     "execution_count": 68,
     "metadata": {},
     "output_type": "execute_result"
    }
   ],
   "source": [
    "M[1:3,2:4]"
   ]
  },
  {
   "cell_type": "code",
   "execution_count": 69,
   "metadata": {},
   "outputs": [
    {
     "data": {
      "text/plain": [
       "array([[ 1,  2,  3,  4],\n",
       "       [ 9, 10, 11, 12]])"
      ]
     },
     "execution_count": 69,
     "metadata": {},
     "output_type": "execute_result"
    }
   ],
   "source": [
    "M[::2,:]"
   ]
  },
  {
   "cell_type": "code",
   "execution_count": null,
   "metadata": {},
   "outputs": [],
   "source": [
    "M"
   ]
  },
  {
   "cell_type": "code",
   "execution_count": null,
   "metadata": {},
   "outputs": [],
   "source": [
    "M[::2,::2]=0\n",
    "M"
   ]
  },
  {
   "cell_type": "markdown",
   "metadata": {
    "collapsed": true
   },
   "source": [
    "# Sympy"
   ]
  },
  {
   "cell_type": "code",
   "execution_count": 50,
   "metadata": {},
   "outputs": [],
   "source": [
    "# Trochę magii\n",
    "from sympy.interactive import printing\n",
    "printing.init_printing(use_latex=True)\n",
    "\n",
    "\n",
    "import sympy as sym\n",
    "from sympy import *\n",
    "\n",
    "# Definicje zmiennych\n",
    "x, y, z = symbols(\"x y z\")\n",
    "k = Symbol(\"k\", integer=True)\n",
    "f = Function('f')"
   ]
  },
  {
   "cell_type": "code",
   "execution_count": null,
   "metadata": {},
   "outputs": [],
   "source": []
  },
  {
   "cell_type": "code",
   "execution_count": null,
   "metadata": {},
   "outputs": [],
   "source": []
  },
  {
   "cell_type": "code",
   "execution_count": 17,
   "metadata": {},
   "outputs": [
    {
     "data": {
      "image/png": "[encoded data removed]",
      "text/latex": [
       "$\\displaystyle \\left(x + 1\\right) \\left(x + y\\right)^{2}$"
      ],
      "text/plain": [
       "               2\n",
       "(x + 1)⋅(x + y) "
      ]
     },
     "execution_count": 17,
     "metadata": {},
     "output_type": "execute_result"
    }
   ],
   "source": [
    "eq = ((x+y)**2 * (x+1))\n",
    "eq"
   ]
  },
  {
   "cell_type": "code",
   "execution_count": 63,
   "metadata": {},
   "outputs": [
    {
     "data": {
      "image/png": "[encoded data removed]",
      "text/latex": [
       "$\\displaystyle x^{3} + 3 x^{2} - 13 x + z = 0$"
      ],
      "text/plain": [
       " 3      2               \n",
       "x  + 3⋅x  - 13⋅x + z = 0"
      ]
     },
     "execution_count": 63,
     "metadata": {},
     "output_type": "execute_result"
    }
   ],
   "source": [
    "expand(eq)"
   ]
  },
  {
   "cell_type": "code",
   "execution_count": 61,
   "metadata": {},
   "outputs": [
    {
     "data": {
      "image/png": "[encoded data removed]",
      "text/latex": [
       "$\\displaystyle 1 + \\frac{x y - 1}{x} + \\frac{1}{x}$"
      ],
      "text/plain": [
       "    x⋅y - 1   1\n",
       "1 + ─────── + ─\n",
       "       x      x"
      ]
     },
     "execution_count": 61,
     "metadata": {},
     "output_type": "execute_result"
    }
   ],
   "source": [
    "a = 1/x + (x*y - 1)/x + 1\n",
    "a"
   ]
  },
  {
   "cell_type": "code",
   "execution_count": 62,
   "metadata": {},
   "outputs": [
    {
     "data": {
      "image/png": "[encoded data removed]",
      "text/latex": [
       "$\\displaystyle y + 1$"
      ],
      "text/plain": [
       "y + 1"
      ]
     },
     "execution_count": 62,
     "metadata": {},
     "output_type": "execute_result"
    }
   ],
   "source": [
    "simplify(a)"
   ]
  },
  {
   "cell_type": "code",
   "execution_count": 51,
   "metadata": {},
   "outputs": [
    {
     "data": {
      "image/png": "[encoded data removed]",
      "text/latex": [
       "$\\displaystyle x - 3 = 0$"
      ],
      "text/plain": [
       "x - 3 = 0"
      ]
     },
     "execution_count": 51,
     "metadata": {},
     "output_type": "execute_result"
    }
   ],
   "source": [
    "eq = Eq(x - 3)\n",
    "eq"
   ]
  },
  {
   "cell_type": "code",
   "execution_count": 59,
   "metadata": {},
   "outputs": [
    {
     "data": {
      "image/png": "[encoded data removed]",
      "text/latex": [
       "$\\displaystyle \\left[ - \\frac{\\left(- \\frac{1}{2} - \\frac{\\sqrt{3} i}{2}\\right) \\sqrt[3]{\\frac{27 z}{2} + \\frac{\\sqrt{\\left(27 z + 405\\right)^{2} - 442368}}{2} + \\frac{405}{2}}}{3} - 1 - \\frac{16}{\\left(- \\frac{1}{2} - \\frac{\\sqrt{3} i}{2}\\right) \\sqrt[3]{\\frac{27 z}{2} + \\frac{\\sqrt{\\left(27 z + 405\\right)^{2} - 442368}}{2} + \\frac{405}{2}}}, \\  - \\frac{\\left(- \\frac{1}{2} + \\frac{\\sqrt{3} i}{2}\\right) \\sqrt[3]{\\frac{27 z}{2} + \\frac{\\sqrt{\\left(27 z + 405\\right)^{2} - 442368}}{2} + \\frac{405}{2}}}{3} - 1 - \\frac{16}{\\left(- \\frac{1}{2} + \\frac{\\sqrt{3} i}{2}\\right) \\sqrt[3]{\\frac{27 z}{2} + \\frac{\\sqrt{\\left(27 z + 405\\right)^{2} - 442368}}{2} + \\frac{405}{2}}}, \\  - \\frac{\\sqrt[3]{\\frac{27 z}{2} + \\frac{\\sqrt{\\left(27 z + 405\\right)^{2} - 442368}}{2} + \\frac{405}{2}}}{3} - 1 - \\frac{16}{\\sqrt[3]{\\frac{27 z}{2} + \\frac{\\sqrt{\\left(27 z + 405\\right)^{2} - 442368}}{2} + \\frac{405}{2}}}\\right]$"
      ],
      "text/plain": [
       "⎡                     __________________________________________              \n",
       "⎢                    ╱           ________________________                     \n",
       "⎢                   ╱           ╱             2                               \n",
       "⎢  ⎛  1   √3⋅ⅈ⎞    ╱   27⋅z   ╲╱  (27⋅z + 405)  - 442368    405               \n",
       "⎢  ⎜- ─ - ────⎟⋅3 ╱    ──── + ─────────────────────────── + ───               \n",
       "⎢  ⎝  2    2  ⎠ ╲╱      2                  2                 2                \n",
       "⎢- ───────────────────────────────────────────────────────────── - 1 - ───────\n",
       "⎢                                3                                            \n",
       "⎢                                                                             \n",
       "⎢                                                                             \n",
       "⎢                                                                      ⎛  1   \n",
       "⎢                                                                      ⎜- ─ - \n",
       "⎣                                                                      ⎝  2   \n",
       "\n",
       "                                                                             _\n",
       "                                                                            ╱ \n",
       "                                                                           ╱  \n",
       "                                                          ⎛  1   √3⋅ⅈ⎞    ╱   \n",
       "                                                          ⎜- ─ + ────⎟⋅3 ╱    \n",
       "                       16                                 ⎝  2    2  ⎠ ╲╱     \n",
       "──────────────────────────────────────────────────────, - ────────────────────\n",
       "            __________________________________________                        \n",
       "           ╱           ________________________                               \n",
       "          ╱           ╱             2                                         \n",
       "√3⋅ⅈ⎞    ╱   27⋅z   ╲╱  (27⋅z + 405)  - 442368    405                         \n",
       "────⎟⋅3 ╱    ──── + ─────────────────────────── + ───                         \n",
       " 2  ⎠ ╲╱      2                  2                 2                          \n",
       "\n",
       "_________________________________________                                     \n",
       "          ________________________                                            \n",
       "         ╱             2                                                      \n",
       "27⋅z   ╲╱  (27⋅z + 405)  - 442368    405                                      \n",
       "──── + ─────────────────────────── + ───                                      \n",
       " 2                  2                 2                                       \n",
       "───────────────────────────────────────── - 1 - ──────────────────────────────\n",
       "          3                                                        ___________\n",
       "                                                                  ╱           \n",
       "                                                                 ╱           ╱\n",
       "                                                ⎛  1   √3⋅ⅈ⎞    ╱   27⋅z   ╲╱ \n",
       "                                                ⎜- ─ + ────⎟⋅3 ╱    ──── + ───\n",
       "                                                ⎝  2    2  ⎠ ╲╱      2        \n",
       "\n",
       "                                         _____________________________________\n",
       "                                        ╱           ________________________  \n",
       "                                       ╱           ╱             2            \n",
       "                                      ╱   27⋅z   ╲╱  (27⋅z + 405)  - 442368   \n",
       "                                   3 ╱    ──── + ─────────────────────────── +\n",
       "16                                 ╲╱      2                  2               \n",
       "───────────────────────────────, - ───────────────────────────────────────────\n",
       "_______________________________                           3                   \n",
       "________________________                                                      \n",
       "             2                                                                \n",
       " (27⋅z + 405)  - 442368    405                                                \n",
       "──────────────────────── + ───                                                \n",
       "          2                 2                                                 \n",
       "\n",
       "_____                                                       ⎤\n",
       "                                                            ⎥\n",
       "                                                            ⎥\n",
       " 405                                                        ⎥\n",
       " ───                                                        ⎥\n",
       "  2                                16                       ⎥\n",
       "───── - 1 - ────────────────────────────────────────────────⎥\n",
       "                  __________________________________________⎥\n",
       "                 ╱           ________________________       ⎥\n",
       "                ╱           ╱             2                 ⎥\n",
       "               ╱   27⋅z   ╲╱  (27⋅z + 405)  - 442368    405 ⎥\n",
       "            3 ╱    ──── + ─────────────────────────── + ─── ⎥\n",
       "            ╲╱      2                  2                 2  ⎦"
      ]
     },
     "execution_count": 59,
     "metadata": {},
     "output_type": "execute_result"
    }
   ],
   "source": [
    "solve(eq, x)"
   ]
  },
  {
   "cell_type": "code",
   "execution_count": null,
   "metadata": {},
   "outputs": [],
   "source": [
    "eq = Eq(x**3 + 3*x**2 - 13*x - 15)\n",
    "eq"
   ]
  },
  {
   "cell_type": "code",
   "execution_count": null,
   "metadata": {},
   "outputs": [],
   "source": [
    "solve(eq, x)"
   ]
  },
  {
   "cell_type": "code",
   "execution_count": 52,
   "metadata": {},
   "outputs": [
    {
     "data": {
      "image/png": "[encoded data removed]",
      "text/latex": [
       "$\\displaystyle \\left[ -1 - \\frac{16}{\\left(- \\frac{1}{2} - \\frac{\\sqrt{3} i}{2}\\right) \\sqrt[3]{3 \\sqrt{5937} + 405}} - \\frac{\\left(- \\frac{1}{2} - \\frac{\\sqrt{3} i}{2}\\right) \\sqrt[3]{3 \\sqrt{5937} + 405}}{3}, \\  -1 - \\frac{\\left(- \\frac{1}{2} + \\frac{\\sqrt{3} i}{2}\\right) \\sqrt[3]{3 \\sqrt{5937} + 405}}{3} - \\frac{16}{\\left(- \\frac{1}{2} + \\frac{\\sqrt{3} i}{2}\\right) \\sqrt[3]{3 \\sqrt{5937} + 405}}, \\  - \\frac{\\sqrt[3]{3 \\sqrt{5937} + 405}}{3} - \\frac{16}{\\sqrt[3]{3 \\sqrt{5937} + 405}} - 1\\right]$"
      ],
      "text/plain": [
       "⎡                                      ⎛  1   √3⋅ⅈ⎞ 3 _______________       ⎛ \n",
       "⎢                                      ⎜- ─ - ────⎟⋅╲╱ 3⋅√5937 + 405        ⎜-\n",
       "⎢                   16                 ⎝  2    2  ⎠                         ⎝ \n",
       "⎢-1 - ────────────────────────────── - ──────────────────────────────, -1 - ──\n",
       "⎢     ⎛  1   √3⋅ⅈ⎞ 3 _______________                 3                        \n",
       "⎢     ⎜- ─ - ────⎟⋅╲╱ 3⋅√5937 + 405                                           \n",
       "⎣     ⎝  2    2  ⎠                                                            \n",
       "\n",
       " 1   √3⋅ⅈ⎞ 3 _______________                                                  \n",
       " ─ + ────⎟⋅╲╱ 3⋅√5937 + 405                                      3 ___________\n",
       " 2    2  ⎠                                   16                  ╲╱ 3⋅√5937 + \n",
       "──────────────────────────── - ──────────────────────────────, - ─────────────\n",
       "            3                  ⎛  1   √3⋅ⅈ⎞ 3 _______________            3    \n",
       "                               ⎜- ─ + ────⎟⋅╲╱ 3⋅√5937 + 405                  \n",
       "                               ⎝  2    2  ⎠                                   \n",
       "\n",
       "                            ⎤\n",
       "____                        ⎥\n",
       "405            16           ⎥\n",
       "──── - ───────────────── - 1⎥\n",
       "       3 _______________    ⎥\n",
       "       ╲╱ 3⋅√5937 + 405     ⎥\n",
       "                            ⎦"
      ]
     },
     "execution_count": 52,
     "metadata": {},
     "output_type": "execute_result"
    }
   ],
   "source": [
    "eq = Eq(  x**3 + 3*x**2 - 13*x + 15)\n",
    "#eq\n",
    "r = solve(eq, x)\n",
    "r"
   ]
  },
  {
   "cell_type": "code",
   "execution_count": 58,
   "metadata": {},
   "outputs": [
    {
     "data": {
      "image/png": "[encoded data removed]",
      "text/latex": [
       "$\\displaystyle \\left[ - \\frac{\\left(- \\frac{1}{2} - \\frac{\\sqrt{3} i}{2}\\right) \\sqrt[3]{\\frac{27 z}{2} + \\frac{\\sqrt{\\left(27 z + 405\\right)^{2} - 442368}}{2} + \\frac{405}{2}}}{3} - 1 - \\frac{16}{\\left(- \\frac{1}{2} - \\frac{\\sqrt{3} i}{2}\\right) \\sqrt[3]{\\frac{27 z}{2} + \\frac{\\sqrt{\\left(27 z + 405\\right)^{2} - 442368}}{2} + \\frac{405}{2}}}, \\  - \\frac{\\left(- \\frac{1}{2} + \\frac{\\sqrt{3} i}{2}\\right) \\sqrt[3]{\\frac{27 z}{2} + \\frac{\\sqrt{\\left(27 z + 405\\right)^{2} - 442368}}{2} + \\frac{405}{2}}}{3} - 1 - \\frac{16}{\\left(- \\frac{1}{2} + \\frac{\\sqrt{3} i}{2}\\right) \\sqrt[3]{\\frac{27 z}{2} + \\frac{\\sqrt{\\left(27 z + 405\\right)^{2} - 442368}}{2} + \\frac{405}{2}}}, \\  - \\frac{\\sqrt[3]{\\frac{27 z}{2} + \\frac{\\sqrt{\\left(27 z + 405\\right)^{2} - 442368}}{2} + \\frac{405}{2}}}{3} - 1 - \\frac{16}{\\sqrt[3]{\\frac{27 z}{2} + \\frac{\\sqrt{\\left(27 z + 405\\right)^{2} - 442368}}{2} + \\frac{405}{2}}}\\right]$"
      ],
      "text/plain": [
       "⎡                     __________________________________________              \n",
       "⎢                    ╱           ________________________                     \n",
       "⎢                   ╱           ╱             2                               \n",
       "⎢  ⎛  1   √3⋅ⅈ⎞    ╱   27⋅z   ╲╱  (27⋅z + 405)  - 442368    405               \n",
       "⎢  ⎜- ─ - ────⎟⋅3 ╱    ──── + ─────────────────────────── + ───               \n",
       "⎢  ⎝  2    2  ⎠ ╲╱      2                  2                 2                \n",
       "⎢- ───────────────────────────────────────────────────────────── - 1 - ───────\n",
       "⎢                                3                                            \n",
       "⎢                                                                             \n",
       "⎢                                                                             \n",
       "⎢                                                                      ⎛  1   \n",
       "⎢                                                                      ⎜- ─ - \n",
       "⎣                                                                      ⎝  2   \n",
       "\n",
       "                                                                             _\n",
       "                                                                            ╱ \n",
       "                                                                           ╱  \n",
       "                                                          ⎛  1   √3⋅ⅈ⎞    ╱   \n",
       "                                                          ⎜- ─ + ────⎟⋅3 ╱    \n",
       "                       16                                 ⎝  2    2  ⎠ ╲╱     \n",
       "──────────────────────────────────────────────────────, - ────────────────────\n",
       "            __________________________________________                        \n",
       "           ╱           ________________________                               \n",
       "          ╱           ╱             2                                         \n",
       "√3⋅ⅈ⎞    ╱   27⋅z   ╲╱  (27⋅z + 405)  - 442368    405                         \n",
       "────⎟⋅3 ╱    ──── + ─────────────────────────── + ───                         \n",
       " 2  ⎠ ╲╱      2                  2                 2                          \n",
       "\n",
       "_________________________________________                                     \n",
       "          ________________________                                            \n",
       "         ╱             2                                                      \n",
       "27⋅z   ╲╱  (27⋅z + 405)  - 442368    405                                      \n",
       "──── + ─────────────────────────── + ───                                      \n",
       " 2                  2                 2                                       \n",
       "───────────────────────────────────────── - 1 - ──────────────────────────────\n",
       "          3                                                        ___________\n",
       "                                                                  ╱           \n",
       "                                                                 ╱           ╱\n",
       "                                                ⎛  1   √3⋅ⅈ⎞    ╱   27⋅z   ╲╱ \n",
       "                                                ⎜- ─ + ────⎟⋅3 ╱    ──── + ───\n",
       "                                                ⎝  2    2  ⎠ ╲╱      2        \n",
       "\n",
       "                                         _____________________________________\n",
       "                                        ╱           ________________________  \n",
       "                                       ╱           ╱             2            \n",
       "                                      ╱   27⋅z   ╲╱  (27⋅z + 405)  - 442368   \n",
       "                                   3 ╱    ──── + ─────────────────────────── +\n",
       "16                                 ╲╱      2                  2               \n",
       "───────────────────────────────, - ───────────────────────────────────────────\n",
       "_______________________________                           3                   \n",
       "________________________                                                      \n",
       "             2                                                                \n",
       " (27⋅z + 405)  - 442368    405                                                \n",
       "──────────────────────── + ───                                                \n",
       "          2                 2                                                 \n",
       "\n",
       "_____                                                       ⎤\n",
       "                                                            ⎥\n",
       "                                                            ⎥\n",
       " 405                                                        ⎥\n",
       " ───                                                        ⎥\n",
       "  2                                16                       ⎥\n",
       "───── - 1 - ────────────────────────────────────────────────⎥\n",
       "                  __________________________________________⎥\n",
       "                 ╱           ________________________       ⎥\n",
       "                ╱           ╱             2                 ⎥\n",
       "               ╱   27⋅z   ╲╱  (27⋅z + 405)  - 442368    405 ⎥\n",
       "            3 ╱    ──── + ─────────────────────────── + ─── ⎥\n",
       "            ╲╱      2                  2                 2  ⎦"
      ]
     },
     "execution_count": 58,
     "metadata": {},
     "output_type": "execute_result"
    }
   ],
   "source": [
    "eq = Eq(x**3 + 3*x**2 - 13*x + z)\n",
    "solve(eq, x)"
   ]
  },
  {
   "cell_type": "code",
   "execution_count": 25,
   "metadata": {},
   "outputs": [
    {
     "data": {
      "image/png": "[encoded data removed]",
      "text/latex": [
       "$\\displaystyle \\sum_{k=1}^{10} \\left(6 k^{2} - 1\\right)$"
      ],
      "text/plain": [
       "  10            \n",
       " ___            \n",
       " ╲              \n",
       "  ╲   ⎛   2    ⎞\n",
       "  ╱   ⎝6⋅k  - 1⎠\n",
       " ╱              \n",
       " ‾‾‾            \n",
       "k = 1           "
      ]
     },
     "execution_count": 25,
     "metadata": {},
     "output_type": "execute_result"
    }
   ],
   "source": [
    "s = Sum(6*k**2 - 1, (k, 1, 10))\n",
    "s"
   ]
  },
  {
   "cell_type": "code",
   "execution_count": 24,
   "metadata": {},
   "outputs": [
    {
     "data": {
      "image/png": "[encoded data removed]",
      "text/latex": [
       "$\\displaystyle 2300$"
      ],
      "text/plain": [
       "2300"
      ]
     },
     "execution_count": 24,
     "metadata": {},
     "output_type": "execute_result"
    }
   ],
   "source": [
    "s.doit()"
   ]
  },
  {
   "cell_type": "code",
   "execution_count": 54,
   "metadata": {},
   "outputs": [
    {
     "data": {
      "image/png": "[encoded data removed]",
      "text/latex": [
       "$\\displaystyle \\lim_{x \\to 0^+} \\frac{1}{x}$"
      ],
      "text/plain": [
       "     1\n",
       " lim ─\n",
       "x─→0⁺x"
      ]
     },
     "execution_count": 54,
     "metadata": {},
     "output_type": "execute_result"
    }
   ],
   "source": [
    "lim = Limit(1/x, x, 0)\n",
    "lim"
   ]
  },
  {
   "cell_type": "code",
   "execution_count": null,
   "metadata": {},
   "outputs": [],
   "source": []
  },
  {
   "cell_type": "code",
   "execution_count": null,
   "metadata": {},
   "outputs": [],
   "source": []
  },
  {
   "cell_type": "code",
   "execution_count": 55,
   "metadata": {},
   "outputs": [
    {
     "data": {
      "image/png": "[encoded data removed]",
      "text/latex": [
       "$\\displaystyle \\infty$"
      ],
      "text/plain": [
       "∞"
      ]
     },
     "execution_count": 55,
     "metadata": {},
     "output_type": "execute_result"
    }
   ],
   "source": [
    "lim.doit()"
   ]
  },
  {
   "cell_type": "code",
   "execution_count": 56,
   "metadata": {},
   "outputs": [
    {
     "data": {
      "image/png": "[encoded data removed]",
      "text/latex": [
       "$\\displaystyle 2 \\lim_{x \\to \\infty} \\left(1 + \\frac{1}{x}\\right)^{x}$"
      ],
      "text/plain": [
       "             x\n",
       "      ⎛    1⎞ \n",
       "2⋅lim ⎜1 + ─⎟ \n",
       "  x─→∞⎝    x⎠ "
      ]
     },
     "execution_count": 56,
     "metadata": {},
     "output_type": "execute_result"
    }
   ],
   "source": [
    "lim = 2*Limit((1+1/x)**x, x, +oo)\n",
    "lim"
   ]
  },
  {
   "cell_type": "code",
   "execution_count": 57,
   "metadata": {},
   "outputs": [
    {
     "data": {
      "image/png": "[encoded data removed]",
      "text/latex": [
       "$\\displaystyle 2 e$"
      ],
      "text/plain": [
       "2⋅ℯ"
      ]
     },
     "execution_count": 57,
     "metadata": {},
     "output_type": "execute_result"
    }
   ],
   "source": [
    "lim.doit()"
   ]
  },
  {
   "cell_type": "code",
   "execution_count": 21,
   "metadata": {},
   "outputs": [
    {
     "data": {
      "image/png": "[encoded data removed]",
      "text/latex": [
       "$\\displaystyle 3 x^{2}$"
      ],
      "text/plain": [
       "   2\n",
       "3⋅x "
      ]
     },
     "execution_count": 21,
     "metadata": {},
     "output_type": "execute_result"
    }
   ],
   "source": [
    "q = ((3*x**2))\n",
    "q"
   ]
  },
  {
   "cell_type": "code",
   "execution_count": 22,
   "metadata": {},
   "outputs": [
    {
     "data": {
      "image/png": "[encoded data removed]",
      "text/latex": [
       "$\\displaystyle 6 x$"
      ],
      "text/plain": [
       "6⋅x"
      ]
     },
     "execution_count": 22,
     "metadata": {},
     "output_type": "execute_result"
    }
   ],
   "source": [
    "q.diff(x)"
   ]
  },
  {
   "cell_type": "code",
   "execution_count": 19,
   "metadata": {},
   "outputs": [
    {
     "data": {
      "image/png": "[encoded data removed]",
      "text/latex": [
       "$\\displaystyle 9 f{\\left(x \\right)} + \\frac{d^{2}}{d x^{2}} f{\\left(x \\right)} = 1$"
      ],
      "text/plain": [
       "           2          \n",
       "          d           \n",
       "9⋅f(x) + ───(f(x)) = 1\n",
       "           2          \n",
       "         dx           "
      ]
     },
     "execution_count": 19,
     "metadata": {},
     "output_type": "execute_result"
    }
   ],
   "source": [
    "eqn = Eq(Derivative(f(x),x,x) + 9*f(x), 1)\n",
    "eqn"
   ]
  },
  {
   "cell_type": "code",
   "execution_count": 20,
   "metadata": {},
   "outputs": [
    {
     "data": {
      "image/png": "[encoded data removed]",
      "text/latex": [
       "$\\displaystyle f{\\left(x \\right)} = C_{1} \\sin{\\left(3 x \\right)} + C_{2} \\cos{\\left(3 x \\right)} + \\frac{1}{9}$"
      ],
      "text/plain": [
       "f(x) = C₁⋅sin(3⋅x) + C₂⋅cos(3⋅x) + 1/9"
      ]
     },
     "execution_count": 20,
     "metadata": {},
     "output_type": "execute_result"
    }
   ],
   "source": [
    "dsolve(eqn, f(x))"
   ]
  },
  {
   "cell_type": "code",
   "execution_count": null,
   "metadata": {
    "collapsed": true
   },
   "outputs": [],
   "source": []
  }
 ],
 "metadata": {
  "kernelspec": {
   "display_name": "Python 3",
   "language": "python",
   "name": "python3"
  },
  "language_info": {
   "codemirror_mode": {
    "name": "ipython",
    "version": 3
   },
   "file_extension": ".py",
   "mimetype": "text/x-python",
   "name": "python",
   "nbconvert_exporter": "python",
   "pygments_lexer": "ipython3",
   "version": "3.6.1"
  }
 },
 "nbformat": 4,
 "nbformat_minor": 1
}
