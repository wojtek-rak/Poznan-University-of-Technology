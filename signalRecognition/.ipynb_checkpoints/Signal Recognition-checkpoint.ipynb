{
 "cells": [
  {
   "cell_type": "code",
   "execution_count": null,
   "metadata": {
    "scrolled": false
   },
   "outputs": [],
   "source": [
    "import sys\n",
    "#sys.path.append('C:\\ProgramData\\Anaconda3\\lib\\site-packages')\n",
    "from scipy.io import wavfile\n",
    "from pylab import *\n",
    "from numpy import *\n",
    "from scipy import *\n",
    "from ipywidgets import *\n",
    "import matplotlib.pyplot as plt\n",
    "import numpy as np\n",
    "import warnings\n",
    "import os\n",
    "import soundfile as sf\n",
    "\n",
    "%matplotlib inline\n",
    "\n",
    "def getSingleChannel(data):\n",
    "    if (isinstance(data[0], (list, tuple, np.ndarray))):\n",
    "        return data.T[0]\n",
    "    return data\n",
    "\n",
    "print()\n",
    "#warnings.simplefilter(\"ignore\")\n",
    " \n",
    "#filePath = 'trainall⁩//001_K.wav'\n",
    "\n",
    "filePath = '/Users/wolix/Documents/python_projects/KCK/signalRecognition/trainall/001_K.wav'\n",
    "\n",
    "signal, samplerate = sf.read(filePath)\n",
    "signal = np.asarray(signal)\n",
    "\n",
    "signal = getSingleChannel(signal)\n",
    "\n",
    "\n",
    "print(samplerate)\n",
    "\n",
    "w = 1\n",
    "n = len(signal)\n",
    "x = range(0,len(signal))\n",
    "\n",
    "print('Debug')\n",
    "fig = plt.figure(figsize=(15, 6), dpi=80)\n",
    "ax = fig.add_subplot(121)\n",
    "plt.plot(x, signal)\n",
    " \n",
    "plt.grid()\n",
    "print('Debug2')\n",
    "signal1 = fft(signal)\n",
    "signal1 = abs(signal1) / len(signal) * 2\n",
    "freqs = np.arange(0, w, w / n)\n",
    "\n",
    "ax = fig.add_subplot(122)\n",
    "plt.stem(freqs, signal1, '-*')\n",
    "print('Debug3')\n",
    "plt.show()"
   ]
  },
  {
   "cell_type": "code",
   "execution_count": null,
   "metadata": {},
   "outputs": [],
   "source": []
  },
  {
   "cell_type": "code",
   "execution_count": null,
   "metadata": {},
   "outputs": [],
   "source": []
  },
  {
   "cell_type": "code",
   "execution_count": null,
   "metadata": {},
   "outputs": [],
   "source": []
  },
  {
   "cell_type": "code",
   "execution_count": null,
   "metadata": {},
   "outputs": [],
   "source": []
  },
  {
   "cell_type": "code",
   "execution_count": null,
   "metadata": {},
   "outputs": [],
   "source": []
  }
 ],
 "metadata": {
  "kernelspec": {
   "display_name": "Python 3",
   "language": "python",
   "name": "python3"
  },
  "language_info": {
   "codemirror_mode": {
    "name": "ipython",
    "version": 3
   },
   "file_extension": ".py",
   "mimetype": "text/x-python",
   "name": "python",
   "nbconvert_exporter": "python",
   "pygments_lexer": "ipython3",
   "version": "3.6.1"
  }
 },
 "nbformat": 4,
 "nbformat_minor": 2
}
